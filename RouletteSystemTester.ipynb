{
 "cells": [
  {
   "cell_type": "code",
   "execution_count": 1,
   "metadata": {},
   "outputs": [],
   "source": [
    "import random\n",
    "from BetTypeLists import outside_bets_dict, outside_bet, inside_bet, roullette_games"
   ]
  },
  {
   "cell_type": "code",
   "execution_count": 2,
   "metadata": {},
   "outputs": [
    {
     "name": "stdout",
     "output_type": "stream",
     "text": [
      "How much money are you starting with?1000\n",
      "Would you like to place a bet on the outside? (y/n)y\n",
      "Where would you like to bet? dict_keys(['black', 'red', 'col_1st', 'col_2nd', 'col_3rd', 'row_1to12', 'row_13to24', 'row_25to36'])col_2nd\n",
      "How much would you like to bet?50\n",
      "Would you like to pick another? (y/n)y\n",
      "Where would you like to bet? dict_keys(['black', 'red', 'col_1st', 'col_2nd', 'col_3rd', 'row_1to12', 'row_13to24', 'row_25to36'])row_13to24\n",
      "How much would you like to bet?50\n",
      "Would you like to pick another? (y/n)n\n",
      "Your choices are {'col_2nd': 50, 'row_13to24': 50}, would you like to continue? (y/n)y\n",
      "Would you like to place a bet on the inside? (y/n)y\n",
      "Please pick a number from 1 to 36 or 0 or 0000\n",
      "How much would you like to bet?25\n",
      "Would you like to pick another? (y/n)y\n",
      "Please pick a number from 1 to 36 or 0 or 000\n",
      "How much would you like to bet?25\n",
      "Would you like to pick another? (y/n)n\n",
      "Your choices are {'00': 25, '0': 25}, would you like to continue? (y/n)y\n"
     ]
    }
   ],
   "source": [
    "all_numbers_dict = {}\n",
    "\n",
    "bank = int(input('How much money are you starting with?'))\n",
    "\n",
    "outside_question = input('Would you like to place a bet on the outside? (y/n)')\n",
    "\n",
    "if outside_question == 'y':\n",
    "    outside_dict = outside_bet(outside_bets_dict)\n",
    "else:\n",
    "    outside_dict = {'bet_types' : {}}\n",
    "    \n",
    "inside_question = input('Would you like to place a bet on the inside? (y/n)')\n",
    "\n",
    "if inside_question == 'y':\n",
    "    inside_dict = inside_bet()\n",
    "else:\n",
    "    inside_dict = {'bet_types' : {}}\n",
    "    \n",
    "inside_dict['bet_types'].update(outside_dict['bet_types'])\n",
    "all_numbers_dict.update(outside_dict)\n",
    "all_numbers_dict.update(inside_dict)"
   ]
  },
  {
   "cell_type": "code",
   "execution_count": 19,
   "metadata": {},
   "outputs": [
    {
     "name": "stdout",
     "output_type": "stream",
     "text": [
      "rolls till bust: 116. Max bank was 2300, and it happend on roll 26\n",
      "Double: True, Triple: False, Quadruple: False\n"
     ]
    }
   ],
   "source": [
    "bank_list = roullette_games(bank, all_numbers_dict)\n",
    "\n",
    "bust_roll = len(bank_list)+1\n",
    "max_bank = max(bank_list)\n",
    "max_roll = bank_list.index(max(bank_list))+1\n",
    "double = max_bank>=(bank*2)\n",
    "triple = max_bank>=(bank*3)\n",
    "quadruple = max_bank>=(bank*4)\n",
    "\n",
    "print(f'rolls till bust: {bust_roll}. Max bank was {max_bank}, and it happend on roll {max_roll}')\n",
    "print(f'Double: {double}, Triple: {triple}, Quadruple: {quadruple}')"
   ]
  },
  {
   "cell_type": "code",
   "execution_count": null,
   "metadata": {},
   "outputs": [],
   "source": []
  }
 ],
 "metadata": {
  "kernelspec": {
   "display_name": "Python 3",
   "language": "python",
   "name": "python3"
  },
  "language_info": {
   "codemirror_mode": {
    "name": "ipython",
    "version": 3
   },
   "file_extension": ".py",
   "mimetype": "text/x-python",
   "name": "python",
   "nbconvert_exporter": "python",
   "pygments_lexer": "ipython3",
   "version": "3.7.1"
  }
 },
 "nbformat": 4,
 "nbformat_minor": 2
}
