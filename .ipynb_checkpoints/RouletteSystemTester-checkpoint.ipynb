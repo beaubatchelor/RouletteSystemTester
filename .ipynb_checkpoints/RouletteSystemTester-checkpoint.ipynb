{
 "cells": [
  {
   "cell_type": "code",
   "execution_count": 1,
   "metadata": {},
   "outputs": [],
   "source": [
    "import random\n",
    "from BetTypeLists import *"
   ]
  },
  {
   "cell_type": "code",
   "execution_count": 2,
   "metadata": {},
   "outputs": [
    {
     "name": "stdout",
     "output_type": "stream",
     "text": [
      "How much money are you starting with?500\n"
     ]
    }
   ],
   "source": [
    "bank_roll = input('How much money are you starting with?')"
   ]
  },
  {
   "cell_type": "code",
   "execution_count": 3,
   "metadata": {},
   "outputs": [
    {
     "name": "stdout",
     "output_type": "stream",
     "text": [
      "The roll has been 26!\n",
      "Want to keep playing? (y/n)y\n",
      "The roll has been 32!\n",
      "Want to keep playing? (y/n)y\n",
      "The roll has been 30!\n",
      "Want to keep playing? (y/n)y\n",
      "The roll has been 26!\n",
      "Want to keep playing? (y/n)y\n",
      "The roll has been 17!\n",
      "Want to keep playing? (y/n)y\n",
      "The roll has been 7!\n",
      "Want to keep playing? (y/n)y\n",
      "The roll has been 15!\n",
      "Want to keep playing? (y/n)y\n",
      "The roll has been 37!\n",
      "Want to keep playing? (y/n)y\n",
      "The roll has been 37!\n",
      "Want to keep playing? (y/n)n\n"
     ]
    }
   ],
   "source": [
    "playing = True\n",
    "while playing == True:\n",
    "    outside_answer = input('Want to play outside? (y/n)').lower()\n",
    "    \n",
    "    roll = random.randint(0,37)\n",
    "    print(f'The roll is {roll}!')\n",
    "    \n",
    "    \n",
    "    \n",
    "    \n",
    "    \n",
    "    \n",
    "    \n",
    "    answer = input('Want to keep playing? (y/n)').lower()\n",
    "    if answer == 'y':\n",
    "        playing = True\n",
    "    else:\n",
    "        playing = False"
   ]
  },
  {
   "cell_type": "code",
   "execution_count": null,
   "metadata": {},
   "outputs": [],
   "source": []
  }
 ],
 "metadata": {
  "kernelspec": {
   "display_name": "Python 3",
   "language": "python",
   "name": "python3"
  },
  "language_info": {
   "codemirror_mode": {
    "name": "ipython",
    "version": 3
   },
   "file_extension": ".py",
   "mimetype": "text/x-python",
   "name": "python",
   "nbconvert_exporter": "python",
   "pygments_lexer": "ipython3",
   "version": "3.7.1"
  }
 },
 "nbformat": 4,
 "nbformat_minor": 2
}
